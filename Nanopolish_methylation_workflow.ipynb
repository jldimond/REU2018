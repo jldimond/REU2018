{
 "cells": [
  {
   "cell_type": "markdown",
   "metadata": {},
   "source": [
    "# This notebook details the Nanopolish methylation workflow for the Anthopleura elegantissima nanopore reads generated over three Rapid Sequencing runs in July 2018."
   ]
  },
  {
   "cell_type": "markdown",
   "metadata": {},
   "source": [
    "Based on this tutorial: https://nanopolish.readthedocs.io/en/latest/quickstart_call_methylation.html"
   ]
  },
  {
   "cell_type": "code",
   "execution_count": 1,
   "metadata": {},
   "outputs": [
    {
     "data": {
      "text/plain": [
       "u'/Users/MolecularLab/Documents/Anthopleura_genome'"
      ]
     },
     "execution_count": 1,
     "metadata": {},
     "output_type": "execute_result"
    }
   ],
   "source": [
    "pwd"
   ]
  },
  {
   "cell_type": "code",
   "execution_count": 2,
   "metadata": {},
   "outputs": [
    {
     "name": "stdout",
     "output_type": "stream",
     "text": [
      "\u001b[30m\u001b[43m20180711_0043_Ae484_run1\u001b[m\u001b[m/              \u001b[34mFASTQs\u001b[m\u001b[m/\r\n",
      "\u001b[34m20180711_0044_Ae484_run1\u001b[m\u001b[m/              Nanopolish_methylation_workflow.ipynb\r\n",
      "\u001b[30m\u001b[43m20180712_2257_Ae484_run2\u001b[m\u001b[m/              \u001b[34mbasecalled\u001b[m\u001b[m/\r\n",
      "\u001b[30m\u001b[43m20180712_2259_Ae484_run2\u001b[m\u001b[m/              canu_command.rtf\r\n",
      "\u001b[30m\u001b[43m20180714_2346_Ae484_run3\u001b[m\u001b[m/              \u001b[34mfast5_files\u001b[m\u001b[m/\r\n",
      "\u001b[30m\u001b[43m20180714_2347_Ae484_run3\u001b[m\u001b[m/              methylation_calls.tsv\r\n",
      "Ae_all.sorted.bam                      \u001b[34mminiasm\u001b[m\u001b[m/\r\n",
      "Ae_all.sorted.bam.bai                  \u001b[34mminimap2\u001b[m\u001b[m/\r\n",
      "Ae_miniasm.fa                          \u001b[34mnanopolish\u001b[m\u001b[m/\r\n",
      "Aele_transcriptome_v1.fasta            reads.gfa\r\n",
      "Aele_transcriptome_v1.fasta.fai        reads.paf.gz\r\n"
     ]
    }
   ],
   "source": [
    "ls"
   ]
  },
  {
   "cell_type": "code",
   "execution_count": null,
   "metadata": {
    "collapsed": true
   },
   "outputs": [],
   "source": [
    "#Index reads, linking FASTQ file with FAST5 signal data\n",
    "#nanopolish/nanopolish index -d fast5files/ FASTQs/Ae_all.fastq"
   ]
  },
  {
   "cell_type": "raw",
   "metadata": {},
   "source": [
    "[readdb] indexing fast5_files/\n",
    "[readdb] num reads: 3570675, num reads with path to fast5: 3044962"
   ]
  },
  {
   "cell_type": "code",
   "execution_count": null,
   "metadata": {
    "collapsed": true
   },
   "outputs": [],
   "source": [
    "#Aligning reads to the reference genome, in this case the A. elegantissima transcriptome from Kitchen et al.\n",
    "#minimap2/minimap2 -a -x map-ont Aele_transcriptome_v1.fasta ./FASTQs/Ae_all.fastq | /Users/MolecularLab/miniconda2/pkgs/ipyrad-0.6.24-0/lib/python2.7/site-packages/bin/samtools-1.2.1-osx-x86_64 sort -T tmp -o Ae_all.sorted.bam"
   ]
  },
  {
   "cell_type": "raw",
   "metadata": {},
   "source": [
    "[M::mm_idx_gen::2.311*1.42] collected minimizers\n",
    "[M::mm_idx_gen::2.822*1.70] sorted minimizers\n",
    "[M::main::2.839*1.69] loaded/built the index for 142934 target sequence(s)\n",
    "[M::mm_mapopt_update::2.988*1.66] mid_occ = 118\n",
    "[M::mm_idx_stat] kmer size: 15; skip: 10; is_hpc: 0; #seq: 142934\n",
    "[M::mm_idx_stat::3.089*1.64] distinct minimizers: 7758513 (54.91% are singletons); average occurrences: 2.884; average spacing: 5.461\n",
    "[M::worker_pipeline::186.608*2.98] mapped 394451 sequences\n",
    "[M::worker_pipeline::332.646*3.00] mapped 399430 sequences\n",
    "[M::worker_pipeline::475.215*3.01] mapped 388440 sequences\n",
    "[M::worker_pipeline::635.594*3.02] mapped 382785 sequences\n",
    "[M::worker_pipeline::742.520*3.02] mapped 403163 sequences\n",
    "[M::worker_pipeline::847.652*3.02] mapped 407717 sequences\n",
    "[M::worker_pipeline::967.641*3.02] mapped 400806 sequences\n",
    "[M::worker_pipeline::1094.901*3.03] mapped 400235 sequences\n",
    "[M::worker_pipeline::1200.344*2.99] mapped 383335 sequences\n",
    "[M::worker_pipeline::1200.557*2.99] mapped 10313 sequences\n",
    "[M::main] Version: 2.11-r819-dirty\n",
    "[M::main] CMD: minimap2/minimap2 -a -x map-ont Aele_transcriptome_v1.fasta ./FASTQs/Ae_all.fastq\n",
    "[M::main] Real time: 1200.713 sec; CPU: 3594.128 sec\n",
    "[bam_sort_core] merging from 18 files..."
   ]
  },
  {
   "cell_type": "code",
   "execution_count": null,
   "metadata": {
    "collapsed": true
   },
   "outputs": [],
   "source": [
    "#Index BAM file\n",
    "#/Users/MolecularLab/miniconda2/pkgs/ipyrad-0.6.24-0/lib/python2.7/site-packages/bin/samtools-1.2.1-osx-x86_64 index Ae_all.sorted.bam"
   ]
  },
  {
   "cell_type": "code",
   "execution_count": 3,
   "metadata": {
    "collapsed": true
   },
   "outputs": [],
   "source": [
    "#Call methylation with Nanopolish\n",
    "#nanopolish/nanopolish call-methylation -t 8 -r ./FASTQs/Ae_all.fastq -b Ae_all.sorted.bam -g Aele_transcriptome_v1.fasta > methylation_calls.tsv"
   ]
  },
  {
   "cell_type": "raw",
   "metadata": {},
   "source": [
    "[fai_load] build FASTA index.\n",
    "[post-run summary] total reads: 6592119, unparseable: 0, qc fail: 5895, could not calibrate: 844, no alignment: 86040, bad fast5: 1163992"
   ]
  },
  {
   "cell_type": "code",
   "execution_count": 4,
   "metadata": {},
   "outputs": [
    {
     "name": "stdout",
     "output_type": "stream",
     "text": [
      "chromosome\tstart\tend\tread_name\tlog_lik_ratio\tlog_lik_methylated\tlog_lik_unmethylated\tnum_calling_strands\tnum_motifs\tsequence\r\n",
      "comp338179_c0_seq1\t167\t167\t4cb51ac7-860c-4ac5-a13b-f6e6d1847d54\t2.27\t-154.92\t-157.19\t1\t1\tTTTATCGATAG\r\n",
      "comp338179_c0_seq1\t167\t167\t5c5d5e75-59e0-4a5d-aa0e-945ac738a7d1\t2.64\t-210.56\t-213.21\t1\t1\tTTTATCGATAG\r\n",
      "comp338179_c0_seq1\t167\t167\td98a1617-b49e-4c54-b7ce-1ec7e0acc170\t1.55\t-100.96\t-102.50\t1\t1\tTTTATCGATAG\r\n",
      "comp338179_c0_seq1\t167\t167\tf810cd9c-f806-4286-81f1-66e1685d406d\t6.45\t-117.91\t-124.36\t1\t1\tTTTATCGATAG\r\n",
      "comp338179_c0_seq1\t167\t167\ta70236b2-6bd4-43ae-8d77-b494a511c74e\t0.86\t-156.05\t-156.91\t1\t1\tTTTATCGATAG\r\n",
      "comp338179_c0_seq1\t167\t167\tc7efdded-5bcf-4913-8f40-56e3fd4e1fa8\t5.86\t-139.04\t-144.91\t1\t1\tTTTATCGATAG\r\n",
      "comp338179_c0_seq1\t167\t167\t0ce30611-7883-45e3-833c-76f9fac0e88b\t3.24\t-92.95\t-96.19\t1\t1\tTTTATCGATAG\r\n",
      "comp338179_c0_seq1\t167\t167\t10a36f1d-3a79-4b7e-aab7-769b43ef4f3a\t2.02\t-206.34\t-208.36\t1\t1\tTTTATCGATAG\r\n",
      "comp338179_c0_seq1\t167\t167\tbcb2a003-cab4-4a53-aa55-b98bc0c27661\t0.84\t-156.25\t-157.09\t1\t1\tTTTATCGATAG\r\n"
     ]
    }
   ],
   "source": [
    "!head methylation_calls.tsv"
   ]
  },
  {
   "cell_type": "code",
   "execution_count": 5,
   "metadata": {
    "collapsed": true
   },
   "outputs": [],
   "source": [
    "#Helper scipt to sumarize methylation by sequence and base\n",
    "!nanopolish/scripts/calculate_methylation_frequency.py -i methylation_calls.tsv > methylation_frequency.tsv"
   ]
  },
  {
   "cell_type": "code",
   "execution_count": 7,
   "metadata": {
    "scrolled": true
   },
   "outputs": [
    {
     "name": "stdout",
     "output_type": "stream",
     "text": [
      "chromosome\tstart\tend\tnum_motifs_in_group\tcalled_sites\tcalled_sites_methylated\tmethylated_frequency\tgroup_sequence\r\n",
      "comp0_c1_seq1\t72\t83\t3\t7080\t528\t0.075\tAGATCCGCAAACCGCCCGCCCA\r\n",
      "comp0_c1_seq1\t99\t99\t1\t1702\t87\t0.051\tCCCACCGGCTG\r\n",
      "comp0_c1_seq1\t110\t117\t3\t6696\t360\t0.054\tAATCTCGCGGAGCGCATT\r\n",
      "comp0_c1_seq1\t135\t135\t1\t1675\t62\t0.037\tCCATTCGTTTC\r\n",
      "comp0_c1_seq1\t149\t157\t2\t4118\t258\t0.063\tTTTAACGGTTTCACGTACT\r\n",
      "comp0_c1_seq1\t203\t203\t1\t631\t188\t0.298\tCCTCACGGTAC\r\n",
      "comp0_c1_seq1\t214\t226\t3\t7071\t546\t0.077\tTTGTTCGCTATCGGTCTCGTGCC\r\n",
      "comp0_c1_seq1\t289\t333\t9\t26082\t1044\t0.040\tCAACCCGACTCGTCGAAAGCGCATCGTCAGCGGCCGGTTCCGCCACAGACGGGGT\r\n",
      "comp0_c1_seq1\t354\t354\t1\t2189\t73\t0.033\tTATGACGTGCT\r\n",
      "comp0_c1_seq1\t377\t389\t3\t8346\t378\t0.045\tTTGGACGGCCCCGGGTCCGCCTA\r\n",
      "comp0_c1_seq1\t407\t407\t1\t2117\t103\t0.049\tCTTCTCGAAAC\r\n",
      "comp0_c1_seq1\t420\t435\t5\t15025\t530\t0.035\tCAATTCGCCGTCGCAGGCGACGGAGA\r\n",
      "comp0_c1_seq1\t461\t470\t2\t4896\t346\t0.071\tGTTCCCGCTTCATTCGCCAT\r\n",
      "comp0_c1_seq1\t509\t509\t1\t1753\t215\t0.123\tTCCTCCGCTTA\r\n",
      "comp0_c1_seq1\t534\t544\t2\t5630\t224\t0.040\tTTCAGCGGGTAATCTCGCCTG\r\n",
      "comp0_c1_seq1\t572\t589\t4\t11736\t300\t0.026\tGAAGACGGACGACGGGTTAGGTCGCCAG\r\n",
      "comp0_c1_seq1\t600\t635\t9\t28359\t1044\t0.037\tCCAGCCGAACCACGGCCGGATCGGCGGTCGGTCGACGCCTCGGGAA\r\n",
      "comp0_c1_seq1\t666\t697\t8\t25640\t552\t0.022\tCTTCCCGATGTGGCGACGGCGGCCGCGCAGATCGGTCGTGCT\r\n",
      "comp0_c1_seq1\t716\t723\t2\t5686\t204\t0.036\tAGGGACGAGGCCCGTGCT\r\n",
      "comp0_c1_seq1\t740\t742\t2\t5590\t110\t0.020\tGAGGCCGCGACTC\r\n",
      "comp0_c1_seq1\t756\t770\t5\t16145\t535\t0.033\tAAGACCGCACGCGAGCGTGCGCTGG\r\n",
      "comp0_c1_seq1\t786\t786\t1\t2100\t127\t0.060\tGAAACCGACAC\r\n",
      "comp0_c1_seq1\t801\t801\t1\t2447\t108\t0.044\tACAGACGTGCT\r\n",
      "comp0_c1_seq1\t825\t834\t2\t6176\t176\t0.028\tAAGAGCGCAATTTGCGTTCA\r\n",
      "comp0_c1_seq1\t846\t846\t1\t1909\t146\t0.076\tAGATTCGATGA\r\n",
      "comp0_c1_seq1\t883\t883\t1\t2300\t126\t0.055\tCTTATCGCACC\r\n",
      "comp0_c1_seq1\t895\t912\t3\t9432\t258\t0.027\tGGCTGCGTTCTTCATCGATGCACGAGCC\r\n",
      "comp0_c1_seq1\t929\t929\t1\t2240\t121\t0.054\tTCCACCGTTAA\r\n",
      "comp0_c1_seq1\t962\t977\t3\t9573\t288\t0.030\tTTGTCCGTTGTGAGCGGACACGTTTT\r\n",
      "comp0_c1_seq1\t1021\t1030\t2\t5306\t204\t0.038\tTTAAACGTGGGGGCCGTGAG\r\n",
      "comp0_c1_seq1\t1049\t1089\t7\t22708\t420\t0.018\tTCCTTCGAAAGGTGGCGCTCCCATCGTTTGACGCCCTCGACGGGGCGACCC\r\n",
      "comp0_c1_seq1\t1108\t1115\t2\t4804\t282\t0.059\tCCATACGGTTCACGGTGT\r\n",
      "comp0_c1_seq1\t1134\t1140\t2\t5766\t148\t0.026\tTAGAACGTGATCGGTAA\r\n",
      "comp0_c1_seq1\t1155\t1155\t1\t2173\t126\t0.058\tCCTTCCGCAGG\r\n",
      "comp0_c1_seq1\t1169\t1169\t1\t1889\t166\t0.088\tACCTACGGAAA\r\n",
      "comp0_c1_seq1\t1183\t1183\t1\t2598\t171\t0.066\tTGTTACGACTT\r\n",
      "comp0_c1_seq1\t1225\t1225\t1\t2300\t126\t0.055\tCTTTTCGGCAG\r\n",
      "comp0_c1_seq1\t1241\t1258\t4\t13580\t340\t0.025\tTGCTCCGTTGCCGGGGCGGTGGCGCCAA\r\n",
      "comp0_c1_seq1\t1291\t1307\t4\t13140\t416\t0.032\tTCAATCGGTAGTAGCGACGGGCGGTGT\r\n",
      "comp0_c1_seq1\t1329\t1340\t3\t9885\t162\t0.016\tAGGGACGTAATCAACGCGAGCT\r\n",
      "comp0_c1_seq1\t1353\t1355\t2\t5906\t204\t0.035\tTGACTCGCGCTTA\r\n",
      "comp0_c1_seq1\t1373\t1373\t1\t2028\t241\t0.119\tTTCCTCGTTCA\r\n",
      "comp0_c1_seq1\t1411\t1414\t2\t6160\t206\t0.033\tCAGCACGACGATGT\r\n",
      "comp0_c1_seq1\t1443\t1443\t1\t2080\t271\t0.130\tCCTTTCGGCCA\r\n",
      "comp0_c1_seq1\t1459\t1468\t2\t6058\t188\t0.031\tAGACTCGTTGACATCGTCAG\r\n",
      "comp0_c1_seq1\t1479\t1487\t4\t13096\t360\t0.027\tTGTAGCGCGCGTGCGGCCC\r\n",
      "comp0_c1_seq1\t1573\t1589\t5\t16000\t205\t0.013\tTTAGCCGCGAATCGAGATTCGCGTAAC\r\n",
      "comp0_c1_seq1\t1615\t1625\t3\t8973\t222\t0.025\tGGTCTCGTTCGTTAACGGAAT\r\n",
      "comp0_c1_seq1\t1662\t1662\t1\t1957\t153\t0.078\tAAGAACGGCCA\r\n",
      "comp0_c1_seq1\t1745\t1745\t1\t1608\t84\t0.052\tTTCCCCGTGTT\r\n",
      "comp0_c1_seq1\t1765\t1765\t1\t2713\t79\t0.029\tTAAGCCGCAGG\r\n",
      "comp0_c1_seq1\t1794\t1794\t1\t1194\t96\t0.080\tCCTTCCGTCAA\r\n",
      "comp0_c1_seq1\t1836\t1836\t1\t1811\t38\t0.021\tTCCCCCGGAAC\r\n",
      "comp0_c1_seq1\t1907\t1913\t2\t5670\t292\t0.051\tCTAGTCGGCATCGTTTA\r\n",
      "comp0_c1_seq1\t1934\t1934\t1\t1761\t79\t0.045\tTAGGACGGTAT\r\n",
      "comp0_c1_seq1\t1945\t1951\t2\t5538\t180\t0.033\tCTGATCGTCTTCGAGCC\r\n",
      "comp0_c1_seq1\t1966\t1966\t1\t2608\t52\t0.020\tACTTTCGTTCT\r\n",
      "comp0_c1_seq1\t2004\t2021\t3\t8865\t105\t0.012\tGCTTTCGCAGTAGTTCGTCTTTCGTAAA\r\n",
      "comp0_c1_seq1\t2050\t2057\t2\t5754\t98\t0.017\tGACAACGAAATACGAATG\r\n",
      "comp0_c1_seq1\t2092\t2092\t1\t1815\t125\t0.069\tTACTTCGGTTC\r\n",
      "comp0_c1_seq1\t2158\t2158\t1\t2332\t165\t0.071\tTCAAGCGCTGG\r\n",
      "comp0_c1_seq1\t2198\t2198\t1\t2069\t49\t0.024\tGTAAACGTCAC\r\n",
      "comp0_c1_seq1\t2212\t2212\t1\t2223\t80\t0.036\tTCCTACGCACA\r\n",
      "comp0_c1_seq1\t2234\t2234\t1\t2205\t71\t0.032\tGCACACGCAGT\r\n",
      "comp0_c1_seq1\t2245\t2260\t3\t7686\t171\t0.022\tCTTTGCGAAGAAGAGCGGCCCGGCCA\r\n",
      "comp0_c1_seq1\t2279\t2301\t5\t13710\t220\t0.016\tCCTTGCGGCGGACCGGCCGTGCCACCCCGAAAT\r\n",
      "comp0_c1_seq1\t2314\t2314\t1\t2003\t85\t0.042\tAACTACGAGCT\r\n",
      "comp0_c1_seq1\t2345\t2345\t1\t1667\t178\t0.107\tATATACGCTAT\r\n",
      "comp0_c1_seq1\t2366\t2368\t2\t4510\t122\t0.027\tATTACCGCGGCTG\r\n",
      "comp0_c1_seq1\t2405\t2405\t1\t1434\t182\t0.127\tATCCTCGTTAA\r\n",
      "comp0_c1_seq1\t2508\t2510\t2\t4552\t190\t0.042\tATTTGCGCGCCTG\r\n",
      "comp0_c1_seq1\t2539\t2539\t1\t1722\t49\t0.028\tGTAGCCGTTTC\r\n",
      "comp0_c1_seq1\t2559\t2565\t2\t3654\t292\t0.080\tCTCTCCGGAATCGAACC\r\n",
      "comp0_c1_seq1\t2580\t2587\t2\t3660\t124\t0.034\tTTCTCCGTCACCCGTTGT\r\n",
      "comp0_c1_seq1\t2620\t2620\t1\t1659\t117\t0.071\tACCATCGACAG\r\n",
      "comp0_c1_seq1\t2655\t2661\t2\t4370\t130\t0.030\tAACATCGCCAGCGCAAG\r\n",
      "comp0_c1_seq1\t2673\t2678\t2\t4090\t110\t0.027\tCCATGCGATTCGTAAA\r\n",
      "comp0_c1_seq1\t2703\t2707\t2\t3062\t244\t0.080\tCCAAACGACCGGGCA\r\n",
      "comp0_c1_seq1\t2718\t2718\t1\t1478\t67\t0.045\tGAACCCGCATT\r\n",
      "comp0_c1_seq1\t2753\t2771\t3\t5361\t201\t0.037\tCCTTCCGAACAGTCGGGACTTTTCGCATG\r\n",
      "comp0_c1_seq1\t2797\t2797\t1\t863\t85\t0.098\tTACCACGGTTA\r\n",
      "comp0_c1_seq1\t2816\t2816\t1\t1450\t63\t0.043\tGTAAACGTACA\r\n",
      "comp0_c1_seq1\t2832\t2832\t1\t1079\t84\t0.078\tATAAACGATAA\r\n",
      "comp0_c1_seq1\t2856\t2856\t1\t1228\t30\t0.024\tCCATTCGCAGT\r\n",
      "comp0_c1_seq1\t2951\t2951\t1\t943\t24\t0.025\tAACTGCGAATG\r\n",
      "comp0_c1_seq1\t2975\t2975\t1\t874\t64\t0.073\tGTTATCGTTTA\r\n",
      "comp0_c1_seq1\t2991\t2991\t1\t1239\t48\t0.039\tTTGTACGTTTA\r\n",
      "comp0_c1_seq1\t3010\t3010\t1\t769\t74\t0.096\tATAACCGTGGT\r\n",
      "comp0_c1_seq1\t3036\t3054\t3\t4761\t174\t0.037\tACATGCGAAAAGTCCCGACTGTTCGGAAG\r\n",
      "comp0_c1_seq1\t3089\t3089\t1\t1325\t54\t0.041\tCAATGCGGGTT\r\n",
      "comp0_c1_seq1\t3100\t3104\t2\t2768\t210\t0.076\tCTGCCCGGTCGTTTG\r\n",
      "comp0_c1_seq1\t3129\t3134\t2\t3740\t96\t0.026\tCTTTACGAATCGCATG\r\n",
      "comp0_c1_seq1\t3146\t3152\t2\t4030\t132\t0.033\tCCTTGCGCTGGCGATGT\r\n",
      "comp0_c1_seq1\t3187\t3187\t1\t1566\t126\t0.080\tACTGTCGATGG\r\n",
      "comp0_c1_seq1\t3220\t3227\t2\t3386\t118\t0.035\tTACAACGGGTGACGGAGA\r\n",
      "comp0_c1_seq1\t3242\t3248\t2\t3370\t358\t0.106\tGGGTTCGATTCCGGAGA\r\n",
      "comp0_c1_seq1\t3268\t3268\t1\t1604\t47\t0.029\tAGAAACGGCTA\r\n",
      "comp0_c1_seq1\t3297\t3299\t2\t4308\t174\t0.040\tGCAGGCGCGCAAA\r\n",
      "comp0_c1_seq1\t3402\t3402\t1\t1318\t160\t0.121\tTTTAACGAGGA\r\n"
     ]
    }
   ],
   "source": [
    "!head -100 methylation_frequency.tsv"
   ]
  },
  {
   "cell_type": "code",
   "execution_count": 11,
   "metadata": {},
   "outputs": [
    {
     "name": "stdout",
     "output_type": "stream",
     "text": [
      "comp99_c0_seq9\t12269\t12269\t1\t4\t0\t0.000\tCTTTTCGGTGC\r\n",
      "comp99_c0_seq9\t12285\t12285\t1\t5\t0\t0.000\tCTCATCGATGT\r\n",
      "comp99_c0_seq9\t12338\t12348\t2\t8\t0\t0.000\tCATATCGTTCCATTTCGTGAC\r\n",
      "comp99_c0_seq9\t12369\t12369\t1\t2\t0\t0.000\tTGCAACGTGAA\r\n",
      "comp99_c0_seq9\t12387\t12387\t1\t3\t0\t0.000\tGAAGTCGTGTA\r\n",
      "comp99_c0_seq9\t12409\t12409\t1\t4\t1\t0.250\tTTGTGCGATTG\r\n",
      "comp99_c0_seq9\t12455\t12455\t1\t3\t0\t0.000\tGTCACCGATGG\r\n",
      "comp99_c0_seq9\t12514\t12526\t3\t9\t0\t0.000\tTAATACGCATCTCAACGCGAAGC\r\n",
      "comp99_c0_seq9\t12596\t12596\t1\t1\t1\t1.000\tCATTCCGTGAT\r\n",
      "comp99_c0_seq9\t12615\t12615\t1\t1\t0\t0.000\tGGACTCGGTCT\r\n"
     ]
    }
   ],
   "source": [
    "!tail methylation_frequency.tsv "
   ]
  },
  {
   "cell_type": "code",
   "execution_count": 20,
   "metadata": {
    "collapsed": true
   },
   "outputs": [],
   "source": [
    "!awk '{a[$1]+=$7}END{for(i in a) print i,a[i]}' methylation_frequency.tsv > methylation_avg.tsv"
   ]
  },
  {
   "cell_type": "code",
   "execution_count": 31,
   "metadata": {},
   "outputs": [
    {
     "name": "stdout",
     "output_type": "stream",
     "text": [
      "comp13293_c0_seq1 3.879\r\n",
      "comp69352_c0_seq1 0.696\r\n",
      "comp329583_c0_seq1 1\r\n",
      "comp46922_c0_seq1 1\r\n",
      "comp73731_c0_seq1 3.968\r\n",
      "comp73731_c0_seq2 2.001\r\n",
      "comp73731_c0_seq3 0.583\r\n",
      "comp385020_c0_seq1 1.5\r\n",
      "comp353689_c0_seq1 0.083\r\n",
      "comp143548_c0_seq1 0.53\r\n",
      "comp199607_c0_seq1 7\r\n",
      "comp15123_c0_seq1 1.841\r\n",
      "comp76570_c0_seq1 0\r\n",
      "comp49886_c0_seq1 1.4\r\n",
      "comp52241_c0_seq10 1.237\r\n",
      "comp96297_c0_seq1 0.25\r\n",
      "comp52241_c0_seq11 0.577\r\n",
      "comp52241_c0_seq12 0.98\r\n",
      "comp52241_c0_seq13 0.799\r\n",
      "comp52241_c0_seq14 0.143\r\n"
     ]
    }
   ],
   "source": [
    "!head -20 methylation_avg.tsv"
   ]
  },
  {
   "cell_type": "code",
   "execution_count": 26,
   "metadata": {
    "collapsed": true
   },
   "outputs": [],
   "source": [
    "#set called site threshold for methylation data set to 10\n",
    "!awk -F \"\\t\" 'NR==1{print;next}$5>10' methylation_frequency.tsv > methylation_frequency_thresh10.tsv "
   ]
  },
  {
   "cell_type": "code",
   "execution_count": 27,
   "metadata": {},
   "outputs": [
    {
     "name": "stdout",
     "output_type": "stream",
     "text": [
      "chromosome\tstart\tend\tnum_motifs_in_group\tcalled_sites\tcalled_sites_methylated\tmethylated_frequency\tgroup_sequence\r\n",
      "comp0_c1_seq1\t72\t83\t3\t7080\t528\t0.075\tAGATCCGCAAACCGCCCGCCCA\r\n",
      "comp0_c1_seq1\t99\t99\t1\t1702\t87\t0.051\tCCCACCGGCTG\r\n",
      "comp0_c1_seq1\t110\t117\t3\t6696\t360\t0.054\tAATCTCGCGGAGCGCATT\r\n",
      "comp0_c1_seq1\t135\t135\t1\t1675\t62\t0.037\tCCATTCGTTTC\r\n",
      "comp0_c1_seq1\t149\t157\t2\t4118\t258\t0.063\tTTTAACGGTTTCACGTACT\r\n",
      "comp0_c1_seq1\t203\t203\t1\t631\t188\t0.298\tCCTCACGGTAC\r\n",
      "comp0_c1_seq1\t214\t226\t3\t7071\t546\t0.077\tTTGTTCGCTATCGGTCTCGTGCC\r\n",
      "comp0_c1_seq1\t289\t333\t9\t26082\t1044\t0.040\tCAACCCGACTCGTCGAAAGCGCATCGTCAGCGGCCGGTTCCGCCACAGACGGGGT\r\n",
      "comp0_c1_seq1\t354\t354\t1\t2189\t73\t0.033\tTATGACGTGCT\r\n"
     ]
    }
   ],
   "source": [
    "!head methylation_frequency_thresh10.tsv"
   ]
  },
  {
   "cell_type": "code",
   "execution_count": 28,
   "metadata": {},
   "outputs": [
    {
     "name": "stdout",
     "output_type": "stream",
     "text": [
      "comp99_c0_seq6\t12505\t12517\t3\t18\t0\t0.000\tTAATACGCATCTCAACGCGAAGC\r\n",
      "comp99_c0_seq6\t15819\t15828\t3\t12\t0\t0.000\tTTGATCGCGGTGAACGTAAG\r\n",
      "comp99_c0_seq6\t15896\t15912\t4\t16\t0\t0.000\tAGTGTCGGGCGATGACCGTTCCGACAA\r\n",
      "comp99_c0_seq7\t3727\t3739\t3\t24\t0\t0.000\tGGCTTCGCGTTGAGATGCGTATT\r\n",
      "comp99_c0_seq7\t3905\t3915\t2\t12\t0\t0.000\tTGTCACGAAATGGAACGATAT\r\n",
      "comp99_c0_seq8\t3727\t3739\t3\t24\t0\t0.000\tGGCTTCGCGTTGAGATGCGTATT\r\n",
      "comp99_c0_seq8\t3905\t3915\t2\t14\t0\t0.000\tTGTCACGAAATGGAACGATAT\r\n",
      "comp99_c0_seq8\t4386\t4388\t2\t12\t0\t0.000\tTATAACGCGTTTA\r\n",
      "comp99_c0_seq9\t1653\t1669\t4\t16\t0\t0.000\tGAACTCGTCGATTGCGCCCTCCGATCA\r\n",
      "comp99_c0_seq9\t3727\t3739\t3\t12\t0\t0.000\tGGCTTCGCGTTGAGATGCGTATT\r\n"
     ]
    }
   ],
   "source": [
    "!tail methylation_frequency_thresh10.tsv"
   ]
  },
  {
   "cell_type": "code",
   "execution_count": 29,
   "metadata": {},
   "outputs": [
    {
     "name": "stdout",
     "output_type": "stream",
     "text": [
      " 1685717 13485736 89611899 methylation_frequency.tsv\r\n"
     ]
    }
   ],
   "source": [
    "!wc methylation_frequency.tsv"
   ]
  },
  {
   "cell_type": "code",
   "execution_count": 30,
   "metadata": {},
   "outputs": [
    {
     "name": "stdout",
     "output_type": "stream",
     "text": [
      "  325246 2601968 18986396 methylation_frequency_thresh10.tsv\r\n"
     ]
    }
   ],
   "source": [
    "!wc methylation_frequency_thresh10.tsv"
   ]
  },
  {
   "cell_type": "code",
   "execution_count": 32,
   "metadata": {
    "collapsed": true
   },
   "outputs": [],
   "source": [
    "!awk '{a[$1]+=$7}END{for(i in a) print i,a[i]}' methylation_frequency_thresh10.tsv > methylation_avg_thresh10.tsv"
   ]
  },
  {
   "cell_type": "code",
   "execution_count": 33,
   "metadata": {
    "scrolled": true
   },
   "outputs": [
    {
     "name": "stdout",
     "output_type": "stream",
     "text": [
      "comp13293_c0_seq1 0.614\r\n",
      "comp141637_c0_seq1 0\r\n",
      "comp12240_c0_seq1 0.376\r\n",
      "comp12240_c0_seq2 0.31\r\n",
      "comp41074_c0_seq1 0.301\r\n",
      "comp41074_c0_seq2 0.478\r\n",
      "comp41074_c0_seq3 0.239\r\n",
      "comp41074_c0_seq4 0.216\r\n",
      "comp109363_c0_seq1 0.167\r\n",
      "comp41074_c0_seq7 0\r\n"
     ]
    }
   ],
   "source": [
    "!head methylation_avg_thresh10.tsv"
   ]
  },
  {
   "cell_type": "code",
   "execution_count": 36,
   "metadata": {},
   "outputs": [
    {
     "name": "stdout",
     "output_type": "stream",
     "text": [
      "methylation_frequency.tsv:comp101254_c0_seq2\t278\t281\t2\t24\t24\t1.000\tGAAGACGTCGGTCA\n",
      "methylation_frequency.tsv:comp101254_c0_seq2\t326\t328\t2\t22\t22\t1.000\tATACACGCGGATA\n",
      "methylation_frequency.tsv:comp101254_c0_seq2\t440\t440\t1\t8\t5\t0.625\tCATCTCGGTTT\n",
      "methylation_frequency.tsv:comp101254_c0_seq2\t808\t808\t1\t2\t0\t0.000\tAAAAACGGCTG\n",
      "methylation_frequency.tsv:comp101254_c0_seq2\t843\t843\t1\t2\t0\t0.000\tCTAGGCGATAA\n",
      "methylation_frequency.tsv:comp101254_c0_seq2\t872\t872\t1\t1\t0\t0.000\tAAGAACGGACA\n",
      "methylation_frequency.tsv:comp101254_c0_seq2\t887\t887\t1\t1\t0\t0.000\tAGCCTCGCTAA\n",
      "methylation_frequency.tsv-comp101255_c0_seq1\t95\t95\t1\t2\t0\t0.000\tAGATTCGATTA\n",
      "methylation_frequency.tsv-comp101255_c0_seq1\t162\t162\t1\t4\t1\t0.250\tGGGTACGAAGG\n",
      "methylation_frequency.tsv-comp101255_c0_seq1\t239\t239\t1\t1\t0\t0.000\tTTGTTCGTGAT\n",
      "methylation_frequency.tsv-comp101262_c0_seq1\t118\t118\t1\t4\t3\t0.750\tACCCACGTGAC\n",
      "methylation_frequency.tsv-comp101262_c0_seq1\t129\t133\t2\t14\t0\t0.000\tCTTTACGAGCGGCAG\n",
      "methylation_frequency.tsv-comp101262_c0_seq1\t223\t223\t1\t8\t0\t0.000\tATGACCGGCTT\n",
      "methylation_frequency.tsv-comp101262_c0_seq1\t295\t295\t1\t5\t0\t0.000\tTTTATCGATCA\n",
      "methylation_frequency.tsv-comp101262_c0_seq1\t310\t310\t1\t4\t0\t0.000\tCTCAGCGATGG\n",
      "methylation_frequency.tsv-comp101262_c0_seq1\t337\t337\t1\t5\t0\t0.000\tTGCTGCGATGT\n",
      "methylation_frequency.tsv-comp101262_c0_seq1\t354\t354\t1\t4\t0\t0.000\tCTGTACGATCA\n",
      "grep: comp366021_c0_seq1: No such file or directory\n"
     ]
    }
   ],
   "source": [
    "!grep -A 10 comp101254_c0_seq2 methylation_frequency.tsv comp366021_c0_seq1"
   ]
  },
  {
   "cell_type": "code",
   "execution_count": null,
   "metadata": {
    "collapsed": true
   },
   "outputs": [],
   "source": []
  }
 ],
 "metadata": {
  "kernelspec": {
   "display_name": "Python 2",
   "language": "python",
   "name": "python2"
  },
  "language_info": {
   "codemirror_mode": {
    "name": "ipython",
    "version": 2
   },
   "file_extension": ".py",
   "mimetype": "text/x-python",
   "name": "python",
   "nbconvert_exporter": "python",
   "pygments_lexer": "ipython2",
   "version": "2.7.13"
  }
 },
 "nbformat": 4,
 "nbformat_minor": 2
}
